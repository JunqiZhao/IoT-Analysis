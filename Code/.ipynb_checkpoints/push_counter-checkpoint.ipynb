{
 "cells": [
  {
   "cell_type": "code",
   "execution_count": null,
   "metadata": {},
   "outputs": [],
   "source": [
    "import csv\n",
    "import datetime\n"
   ]
  },
  {
   "cell_type": "code",
   "execution_count": null,
   "metadata": {},
   "outputs": [],
   "source": [
    "def sort_list(listt):\n",
    "    leng = len(listt)\n",
    "\n",
    "    for i in range(0, leng):\n",
    "\n",
    "        for j in range(0, leng-i-1):\n",
    "\n",
    "            if listt[j][0] > listt[j + 1][0]:\n",
    "\n",
    "                tempe = listt[j]\n",
    "                listt[j] = listt[j + 1]\n",
    "                listt[j + 1] = tempe\n",
    "\n",
    "    return listt"
   ]
  },
  {
   "cell_type": "code",
   "execution_count": 1,
   "metadata": {},
   "outputs": [],
   "source": [
    "def push_counter(file):\n",
    "    with open(file, 'r') as csv_file:\n",
    "        csv_reader = csv.reader(csv_file)\n",
    "\n",
    "        next(csv_reader)\n",
    "\n",
    "        # put data into list form\n",
    "        list_preliminary = []\n",
    "\n",
    "        for line in csv_reader:\n",
    "            if line[0]=='' or line[0]=='0':\n",
    "                continue\n",
    "            list_preliminary.append(line)\n",
    "\n",
    "        # sort the list by date time and change the first column to datetime type\n",
    "        for line in list_preliminary:\n",
    "\n",
    "            line[0] = datetime.datetime.strptime(line[0], \"%m/%d/%Y %I:%M:%S %p\")\n",
    "        # sort the list\n",
    "        list_sorted = sort_list(list_preliminary)\n",
    "\n",
    "        # counter with noise\n",
    "        list_count = []\n",
    "        for line in list_sorted:\n",
    "            # if the previous row is a refill\n",
    "            if temp_2=='1' and temp_1=='':\n",
    "                # if this row is a push\n",
    "                if line[2]=='' and line[1]=='1':\n",
    "                    # append the refill time and this row into the new list\n",
    "                    list_count.append([temp_0,1])\n",
    "            # if the previous row is a push\n",
    "            elif temp_2=='' and temp_1=='':\n",
    "\n",
    "                # if this row is a push\n",
    "                if temp_2=='' and temp_1=='1':\n",
    "                    list_count[-1][1]+=1\n",
    "\n",
    "            temp_0 = line[0]\n",
    "            temp_1 = line[1]\n",
    "            temp_2 = line[2]\n",
    "\n",
    "        i=0\n",
    "        temp=0\n",
    "        for line in list_count:\n",
    "            if temp==1:\n",
    "                del list_count[i-1]\n",
    "            temp = line[1]\n",
    "            i += 1\n",
    "        final_stats = [[\"Refill Time\",  \"No. of Push\"]] + list_count\n",
    "\n",
    "        return (final_stats)"
   ]
  }
 ],
 "metadata": {
  "kernelspec": {
   "display_name": "Python 3",
   "language": "python",
   "name": "python3"
  },
  "language_info": {
   "codemirror_mode": {
    "name": "ipython",
    "version": 3
   },
   "file_extension": ".py",
   "mimetype": "text/x-python",
   "name": "python",
   "nbconvert_exporter": "python",
   "pygments_lexer": "ipython3",
   "version": "3.8.3"
  }
 },
 "nbformat": 4,
 "nbformat_minor": 4
}

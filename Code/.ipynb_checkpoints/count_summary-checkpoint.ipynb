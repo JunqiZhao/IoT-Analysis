{
 "cells": [
  {
   "cell_type": "code",
   "execution_count": 1,
   "metadata": {},
   "outputs": [],
   "source": [
    "# Packages\n",
    "import csv\n",
    "import pandas as pd"
   ]
  },
  {
   "cell_type": "code",
   "execution_count": 18,
   "metadata": {},
   "outputs": [
    {
     "data": {
      "text/plain": [
       "'\\n        del csv_read[0]\\n        print(csv_read)\\n        summary_list=[[csv_read[0][0],\\'\\',int(csv_read[0][2])]]\\n        del csv_read[0]\\n        a=0\\n        for line in csv_read:\\n            if line[1] == \"SUPERVISORY\":\\n                summary_list[a][2]+=int(line[1])\\n            elif line[1] == \"TAMPER\":\\n                summary_list[a][1]=line[0]\\n                a+=1\\n                summary_list.append([line[0],\\'\\',0])\\n        summary_list[-1][1]=csv_read[-1][0]\\n\\n\\n        return summary_list\\n'"
      ]
     },
     "execution_count": 18,
     "metadata": {},
     "output_type": "execute_result"
    }
   ],
   "source": [
    "# Function 01: every_10min_summary\n",
    "def count_summary(file):\n",
    "    \n",
    "    with open(file,'r') as csv_file:\n",
    "        reader = csv.reader(file)\n",
    "        csv_reader = list(reader)\n",
    "        print(csv_reader)\n",
    "\n",
    "        del csv_read[0]\n",
    "        print(csv_read)\n",
    "        summary_list=[[csv_read[0][0],'',int(csv_read[0][2])]]\n",
    "        del csv_read[0]\n",
    "        a=0\n",
    "        for line in csv_read:\n",
    "            if line[1] == \"SUPERVISORY\":\n",
    "                summary_list[a][2]+=int(line[1])\n",
    "            elif line[1] == \"TAMPER\":\n",
    "                summary_list[a][1]=line[0]\n",
    "                a+=1\n",
    "                summary_list.append([line[0],'',0])\n",
    "        summary_list[-1][1]=csv_read[-1][0]\n",
    "\n",
    "\n",
    "        return summary_list\n"
   ]
  },
  {
   "cell_type": "code",
   "execution_count": 19,
   "metadata": {},
   "outputs": [
    {
     "name": "stdout",
     "output_type": "stream",
     "text": [
      "[['A'], ['c'], ['u'], ['m'], ['u'], ['l'], ['a'], ['t'], ['i'], ['v'], ['e'], [' '], ['C'], ['o'], ['u'], ['n'], ['t'], ['s'], ['.'], ['c'], ['s'], ['v']]\n"
     ]
    }
   ],
   "source": [
    "file = 'Acumulative Counts.csv'\n",
    "count_summary(file)"
   ]
  },
  {
   "cell_type": "code",
   "execution_count": null,
   "metadata": {},
   "outputs": [],
   "source": []
  }
 ],
 "metadata": {
  "kernelspec": {
   "display_name": "Python 3",
   "language": "python",
   "name": "python3"
  },
  "language_info": {
   "codemirror_mode": {
    "name": "ipython",
    "version": 3
   },
   "file_extension": ".py",
   "mimetype": "text/x-python",
   "name": "python",
   "nbconvert_exporter": "python",
   "pygments_lexer": "ipython3",
   "version": "3.8.3"
  }
 },
 "nbformat": 4,
 "nbformat_minor": 4
}

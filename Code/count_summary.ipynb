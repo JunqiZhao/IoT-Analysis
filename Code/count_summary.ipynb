{
 "cells": [
  {
   "cell_type": "code",
   "execution_count": 32,
   "metadata": {},
   "outputs": [],
   "source": [
    "# Packages\n",
    "import csv\n",
    "import pandas as pd"
   ]
  },
  {
   "cell_type": "code",
   "execution_count": 51,
   "metadata": {},
   "outputs": [],
   "source": [
    "# Function 01: every_10min_summary\n",
    "def count_summary(file):\n",
    "    \n",
    "    with open(file,'r') as csv_file:\n",
    "        reader = csv.reader(csv_file)\n",
    "        csv_reader = list(reader)\n",
    "        del csv_reader[0]\n",
    "        summary_list=[['',csv_reader[0][0],int(csv_reader[0][2])]]\n",
    "        del csv_reader[0]\n",
    "        a=0\n",
    "        for line in csv_reader:\n",
    "            if line[1] == \"SUPERVISORY\":\n",
    "                summary_list[a][2]+=int(line[2])\n",
    "            elif line[1] == \"TAMPER\":\n",
    "                summary_list[a][0]=line[0]\n",
    "                a+=1\n",
    "                summary_list.append(['',line[0],0])\n",
    "        summary_list[-1][0]=csv_reader[-1][0]\n",
    "\n",
    "        summary_list = [['start time','end time','count']]+summary_list\n",
    "        return summary_list\n"
   ]
  },
  {
   "cell_type": "code",
   "execution_count": 52,
   "metadata": {},
   "outputs": [
    {
     "data": {
      "text/plain": [
       "[['start time', 'end time', 'count'],\n",
       " ['11/18/2020, 5:28:53 PM', '11/19/2020, 10:17:38 AM', 3],\n",
       " ['11/18/2020, 2:19:40 PM', '11/18/2020, 5:28:53 PM', 11],\n",
       " ['11/18/2020, 1:24:06 PM', '11/18/2020, 2:19:40 PM', 6],\n",
       " ['11/18/2020, 12:19:47 PM', '11/18/2020, 1:24:06 PM', 8],\n",
       " ['11/18/2020, 12:19:41 PM', '11/18/2020, 12:19:47 PM', 0],\n",
       " ['11/18/2020, 12:16:39 PM', '11/18/2020, 12:19:41 PM', 0],\n",
       " ['11/18/2020, 12:09:06 PM', '11/18/2020, 12:16:39 PM', 10],\n",
       " ['11/18/2020, 12:07:05 PM', '11/18/2020, 12:09:06 PM', 0],\n",
       " ['11/18/2020, 11:45:27 AM', '11/18/2020, 12:07:05 PM', 94]]"
      ]
     },
     "execution_count": 52,
     "metadata": {},
     "output_type": "execute_result"
    }
   ],
   "source": [
    "file = 'Acumulative Counts.csv'\n",
    "count_summary(file)"
   ]
  },
  {
   "cell_type": "code",
   "execution_count": null,
   "metadata": {},
   "outputs": [],
   "source": []
  },
  {
   "cell_type": "code",
   "execution_count": null,
   "metadata": {},
   "outputs": [],
   "source": []
  }
 ],
 "metadata": {
  "kernelspec": {
   "display_name": "Python 3",
   "language": "python",
   "name": "python3"
  },
  "language_info": {
   "codemirror_mode": {
    "name": "ipython",
    "version": 3
   },
   "file_extension": ".py",
   "mimetype": "text/x-python",
   "name": "python",
   "nbconvert_exporter": "python",
   "pygments_lexer": "ipython3",
   "version": "3.8.3"
  }
 },
 "nbformat": 4,
 "nbformat_minor": 4
}
